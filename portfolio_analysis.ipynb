{
  "nbformat": 4,
  "nbformat_minor": 0,
  "metadata": {
    "colab": {
      "name": "portfolio_analysis.ipynb",
      "provenance": [],
      "collapsed_sections": [
        "I8jSSiDBuhjR",
        "zTzpTp2eZbWC",
        "2TXZGju1aAAy",
        "Mpj0_leN4PnN",
        "o5s0lIAhglu3",
        "qkDVNBGWgwLD",
        "PoExlVejhWkP",
        "E08tXv9F7xqO",
        "GmSI9nsciqIx",
        "MCsKbcMHiwZr",
        "uQgxgCoGqR-m",
        "23X2_zcMqgY5",
        "G7KM27Mlql9y",
        "yeS27gOW_7ce",
        "HJeMvtWt_9Uf",
        "6SFjMMtt-xvl",
        "6M3GU-0w-0yN",
        "8llU6eQYA9vo"
      ]
    },
    "kernelspec": {
      "name": "python3",
      "display_name": "Python 3"
    }
  },
  "cells": [
    {
      "cell_type": "markdown",
      "metadata": {
        "id": "8EXPr_5hAE6o",
        "colab_type": "text"
      },
      "source": [
        "### Imports, mount"
      ]
    },
    {
      "cell_type": "code",
      "metadata": {
        "id": "NwWfDYQ6aBOM",
        "colab_type": "code",
        "outputId": "6e8ae15c-02e0-43ed-9e91-6949cc619375",
        "colab": {
          "base_uri": "https://localhost:8080/",
          "height": 102
        }
      },
      "source": [
        "# mounting notebook with my google drive environment \n",
        "from google.colab import drive\n",
        "drive.mount('/content/drive')\n",
        "\n",
        "# set working path to 'SEB_task_portfolio' directory\n",
        "%cd '/content/drive/My Drive/SEB_task_portfolio/'\n",
        "print('\\nFiles:')\n",
        "!dir\n",
        "\n",
        "# importing our created functions for calculations\n",
        "from function import *\n",
        "\n",
        "# importing other libraries\n",
        "import scipy.stats as stats\n",
        "\n",
        "# interest rate\n",
        "r = 0.2"
      ],
      "execution_count": 2,
      "outputs": [
        {
          "output_type": "stream",
          "text": [
            "Drive already mounted at /content/drive; to attempt to forcibly remount, call drive.mount(\"/content/drive\", force_remount=True).\n",
            "/content/drive/My Drive/SEB_task_portfolio\n",
            "\n",
            "Files:\n",
            "function.py  portfolio_analysis.ipynb  __pycache__  Test_candidates.xlsx\n"
          ],
          "name": "stdout"
        }
      ]
    },
    {
      "cell_type": "markdown",
      "metadata": {
        "id": "I8jSSiDBuhjR",
        "colab_type": "text"
      },
      "source": [
        "### Data"
      ]
    },
    {
      "cell_type": "code",
      "metadata": {
        "id": "hr81XBMgqFfb",
        "colab_type": "code",
        "outputId": "0b668a85-6101-4379-eb94-6fd35de24446",
        "colab": {
          "base_uri": "https://localhost:8080/",
          "height": 0
        }
      },
      "source": [
        "# Loading and display data\n",
        "data, portfolio = load_data('Test_candidates.xlsx')\n",
        "\n",
        "# display portffolio\n",
        "portfolio"
      ],
      "execution_count": 3,
      "outputs": [
        {
          "output_type": "execute_result",
          "data": {
            "text/html": [
              "<div>\n",
              "<style scoped>\n",
              "    .dataframe tbody tr th:only-of-type {\n",
              "        vertical-align: middle;\n",
              "    }\n",
              "\n",
              "    .dataframe tbody tr th {\n",
              "        vertical-align: top;\n",
              "    }\n",
              "\n",
              "    .dataframe thead th {\n",
              "        text-align: right;\n",
              "    }\n",
              "</style>\n",
              "<table border=\"1\" class=\"dataframe\">\n",
              "  <thead>\n",
              "    <tr style=\"text-align: right;\">\n",
              "      <th></th>\n",
              "      <th>Instrument</th>\n",
              "      <th>Company</th>\n",
              "      <th>Position</th>\n",
              "      <th>Strike</th>\n",
              "      <th>Tenor*</th>\n",
              "    </tr>\n",
              "  </thead>\n",
              "  <tbody>\n",
              "    <tr>\n",
              "      <th>0</th>\n",
              "      <td>Shares</td>\n",
              "      <td>Google</td>\n",
              "      <td>300</td>\n",
              "      <td>NaN</td>\n",
              "      <td>NaN</td>\n",
              "    </tr>\n",
              "    <tr>\n",
              "      <th>1</th>\n",
              "      <td>Put</td>\n",
              "      <td>Google</td>\n",
              "      <td>300</td>\n",
              "      <td>700</td>\n",
              "      <td>1 month</td>\n",
              "    </tr>\n",
              "    <tr>\n",
              "      <th>2</th>\n",
              "      <td>Call</td>\n",
              "      <td>Google</td>\n",
              "      <td>-300</td>\n",
              "      <td>850</td>\n",
              "      <td>1 month</td>\n",
              "    </tr>\n",
              "    <tr>\n",
              "      <th>3</th>\n",
              "      <td>Call</td>\n",
              "      <td>Apple</td>\n",
              "      <td>200</td>\n",
              "      <td>390</td>\n",
              "      <td>1 month</td>\n",
              "    </tr>\n",
              "    <tr>\n",
              "      <th>4</th>\n",
              "      <td>Put</td>\n",
              "      <td>Apple</td>\n",
              "      <td>200</td>\n",
              "      <td>390</td>\n",
              "      <td>1 month</td>\n",
              "    </tr>\n",
              "    <tr>\n",
              "      <th>5</th>\n",
              "      <td>Call</td>\n",
              "      <td>Apple</td>\n",
              "      <td>-400</td>\n",
              "      <td>450</td>\n",
              "      <td>1 month</td>\n",
              "    </tr>\n",
              "    <tr>\n",
              "      <th>6</th>\n",
              "      <td>Shares</td>\n",
              "      <td>Amazon</td>\n",
              "      <td>-200</td>\n",
              "      <td>NaN</td>\n",
              "      <td>NaN</td>\n",
              "    </tr>\n",
              "    <tr>\n",
              "      <th>7</th>\n",
              "      <td>Call</td>\n",
              "      <td>Amazon</td>\n",
              "      <td>100</td>\n",
              "      <td>280</td>\n",
              "      <td>1 month</td>\n",
              "    </tr>\n",
              "    <tr>\n",
              "      <th>8</th>\n",
              "      <td>Call</td>\n",
              "      <td>Amazon</td>\n",
              "      <td>100</td>\n",
              "      <td>300</td>\n",
              "      <td>1 month</td>\n",
              "    </tr>\n",
              "  </tbody>\n",
              "</table>\n",
              "</div>"
            ],
            "text/plain": [
              "0 Instrument Company Position Strike   Tenor*\n",
              "0     Shares  Google      300    NaN      NaN\n",
              "1        Put  Google      300    700  1 month\n",
              "2       Call  Google     -300    850  1 month\n",
              "3       Call   Apple      200    390  1 month\n",
              "4        Put   Apple      200    390  1 month\n",
              "5       Call   Apple     -400    450  1 month\n",
              "6     Shares  Amazon     -200    NaN      NaN\n",
              "7       Call  Amazon      100    280  1 month\n",
              "8       Call  Amazon      100    300  1 month"
            ]
          },
          "metadata": {
            "tags": []
          },
          "execution_count": 3
        }
      ]
    },
    {
      "cell_type": "markdown",
      "metadata": {
        "id": "AktJEWo7ukEJ",
        "colab_type": "text"
      },
      "source": [
        "# Question 1: "
      ]
    },
    {
      "cell_type": "markdown",
      "metadata": {
        "id": "zTzpTp2eZbWC",
        "colab_type": "text"
      },
      "source": [
        "## What was the portfolio value on the 19th April 2013?"
      ]
    },
    {
      "cell_type": "code",
      "metadata": {
        "id": "5Dq0EiBb55I9",
        "colab_type": "code",
        "outputId": "8e4031e0-1a27-4c49-ff22-32edf7fe06a1",
        "colab": {
          "base_uri": "https://localhost:8080/",
          "height": 0
        }
      },
      "source": [
        "# setting a date\n",
        "date='2013-04-17'\n",
        "\n",
        "# calling a function which returns portfolio value at given day\n",
        "portfolio_value_2013_04_19 = np.round(portfolio_value(date=date, stock_data=data, portfolio_data=portfolio, r=r), 2)\n",
        "\n",
        "# printing portfolio value\n",
        "print('Portfolio value on {} is {}'.format(date, portfolio_value_2013_04_19))"
      ],
      "execution_count": 4,
      "outputs": [
        {
          "output_type": "stream",
          "text": [
            "Portfolio value on 2013-04-17 is 202681.84\n"
          ],
          "name": "stdout"
        }
      ]
    },
    {
      "cell_type": "markdown",
      "metadata": {
        "id": "M60XymDYZn1P",
        "colab_type": "text"
      },
      "source": [
        "### Answer"
      ]
    },
    {
      "cell_type": "markdown",
      "metadata": {
        "id": "P0mb54vO3KaK",
        "colab_type": "text"
      },
      "source": [
        "\n",
        "\n",
        "*   Portfolio value on 2013-04-17 is 202681.84\n",
        "\n",
        "\n",
        "\n",
        "\n",
        "\n"
      ]
    },
    {
      "cell_type": "markdown",
      "metadata": {
        "id": "CIvK5fsVZwNB",
        "colab_type": "text"
      },
      "source": [
        "## To which risk factors is the portfolio most sensitive?"
      ]
    },
    {
      "cell_type": "markdown",
      "metadata": {
        "id": "2TXZGju1aAAy",
        "colab_type": "text"
      },
      "source": [
        "### With Greeks"
      ]
    },
    {
      "cell_type": "code",
      "metadata": {
        "id": "q6uN8xWnnl0m",
        "colab_type": "code",
        "outputId": "d404cef0-7d8e-4ecf-d007-2dfde4cf9eb8",
        "colab": {
          "base_uri": "https://localhost:8080/",
          "height": 0
        }
      },
      "source": [
        "# creating Greek parameters list at given day for all assets in portfolio\n",
        "greeks_list = portfolio_greeks(date=date, stock_data=data, portfolio_data=portfolio, r=r)\n",
        "\n",
        "# creating Greek parameters dataframe\n",
        "greeks_df = pd.DataFrame(greeks_list, columns=['Delta', 'Gamma', 'Theta', 'Vega', 'Rho'])\n",
        "\n",
        "# concatinating portfolio dataframe with Greeks parameters dataframe for better visualization of data\n",
        "portfolio_and_greeks = pd.concat((portfolio, greeks_df), axis=1, ignore_index=True)\n",
        "portfolio_and_greeks.columns = ['Instrument', 'Company', 'Position', 'Strike', 'Tenor*', 'Delta', 'Gamma', 'Theta', 'Vega', 'Rho']\n",
        "portfolio_and_greeks"
      ],
      "execution_count": 5,
      "outputs": [
        {
          "output_type": "execute_result",
          "data": {
            "text/html": [
              "<div>\n",
              "<style scoped>\n",
              "    .dataframe tbody tr th:only-of-type {\n",
              "        vertical-align: middle;\n",
              "    }\n",
              "\n",
              "    .dataframe tbody tr th {\n",
              "        vertical-align: top;\n",
              "    }\n",
              "\n",
              "    .dataframe thead th {\n",
              "        text-align: right;\n",
              "    }\n",
              "</style>\n",
              "<table border=\"1\" class=\"dataframe\">\n",
              "  <thead>\n",
              "    <tr style=\"text-align: right;\">\n",
              "      <th></th>\n",
              "      <th>Instrument</th>\n",
              "      <th>Company</th>\n",
              "      <th>Position</th>\n",
              "      <th>Strike</th>\n",
              "      <th>Tenor*</th>\n",
              "      <th>Delta</th>\n",
              "      <th>Gamma</th>\n",
              "      <th>Theta</th>\n",
              "      <th>Vega</th>\n",
              "      <th>Rho</th>\n",
              "    </tr>\n",
              "  </thead>\n",
              "  <tbody>\n",
              "    <tr>\n",
              "      <th>0</th>\n",
              "      <td>Shares</td>\n",
              "      <td>Google</td>\n",
              "      <td>300</td>\n",
              "      <td>NaN</td>\n",
              "      <td>NaN</td>\n",
              "      <td>1.000000e+00</td>\n",
              "      <td>0.000000e+00</td>\n",
              "      <td>0.000000</td>\n",
              "      <td>0.000000e+00</td>\n",
              "      <td>1.000000e+00</td>\n",
              "    </tr>\n",
              "    <tr>\n",
              "      <th>1</th>\n",
              "      <td>Put</td>\n",
              "      <td>Google</td>\n",
              "      <td>300</td>\n",
              "      <td>700</td>\n",
              "      <td>1 month</td>\n",
              "      <td>-4.284008e-05</td>\n",
              "      <td>2.908898e-08</td>\n",
              "      <td>131.137822</td>\n",
              "      <td>4.023017e-02</td>\n",
              "      <td>-5.736635e+01</td>\n",
              "    </tr>\n",
              "    <tr>\n",
              "      <th>2</th>\n",
              "      <td>Call</td>\n",
              "      <td>Google</td>\n",
              "      <td>-300</td>\n",
              "      <td>850</td>\n",
              "      <td>1 month</td>\n",
              "      <td>9.999525e-01</td>\n",
              "      <td>3.205766e-08</td>\n",
              "      <td>-7.216413</td>\n",
              "      <td>4.433586e-02</td>\n",
              "      <td>3.084472e-03</td>\n",
              "    </tr>\n",
              "    <tr>\n",
              "      <th>3</th>\n",
              "      <td>Call</td>\n",
              "      <td>Apple</td>\n",
              "      <td>200</td>\n",
              "      <td>390</td>\n",
              "      <td>1 month</td>\n",
              "      <td>1.000000e+00</td>\n",
              "      <td>2.991372e-14</td>\n",
              "      <td>-0.000005</td>\n",
              "      <td>1.842688e-08</td>\n",
              "      <td>7.917979e-10</td>\n",
              "    </tr>\n",
              "    <tr>\n",
              "      <th>4</th>\n",
              "      <td>Put</td>\n",
              "      <td>Apple</td>\n",
              "      <td>200</td>\n",
              "      <td>390</td>\n",
              "      <td>1 month</td>\n",
              "      <td>-2.356323e-11</td>\n",
              "      <td>2.991372e-14</td>\n",
              "      <td>76.710768</td>\n",
              "      <td>1.842688e-08</td>\n",
              "      <td>-3.196282e+01</td>\n",
              "    </tr>\n",
              "    <tr>\n",
              "      <th>5</th>\n",
              "      <td>Call</td>\n",
              "      <td>Apple</td>\n",
              "      <td>-400</td>\n",
              "      <td>450</td>\n",
              "      <td>1 month</td>\n",
              "      <td>1.000000e+00</td>\n",
              "      <td>3.213189e-14</td>\n",
              "      <td>-0.000005</td>\n",
              "      <td>1.979327e-08</td>\n",
              "      <td>8.491643e-10</td>\n",
              "    </tr>\n",
              "    <tr>\n",
              "      <th>6</th>\n",
              "      <td>Shares</td>\n",
              "      <td>Amazon</td>\n",
              "      <td>-200</td>\n",
              "      <td>NaN</td>\n",
              "      <td>NaN</td>\n",
              "      <td>1.000000e+00</td>\n",
              "      <td>0.000000e+00</td>\n",
              "      <td>0.000000</td>\n",
              "      <td>0.000000e+00</td>\n",
              "      <td>1.000000e+00</td>\n",
              "    </tr>\n",
              "    <tr>\n",
              "      <th>7</th>\n",
              "      <td>Call</td>\n",
              "      <td>Amazon</td>\n",
              "      <td>100</td>\n",
              "      <td>280</td>\n",
              "      <td>1 month</td>\n",
              "      <td>1.000000e+00</td>\n",
              "      <td>3.235082e-12</td>\n",
              "      <td>-0.000194</td>\n",
              "      <td>7.899485e-07</td>\n",
              "      <td>3.751914e-08</td>\n",
              "    </tr>\n",
              "    <tr>\n",
              "      <th>8</th>\n",
              "      <td>Call</td>\n",
              "      <td>Amazon</td>\n",
              "      <td>100</td>\n",
              "      <td>300</td>\n",
              "      <td>1 month</td>\n",
              "      <td>1.000000e+00</td>\n",
              "      <td>3.348522e-12</td>\n",
              "      <td>-0.000201</td>\n",
              "      <td>8.176486e-07</td>\n",
              "      <td>3.879846e-08</td>\n",
              "    </tr>\n",
              "  </tbody>\n",
              "</table>\n",
              "</div>"
            ],
            "text/plain": [
              "  Instrument Company Position  ...       Theta          Vega           Rho\n",
              "0     Shares  Google      300  ...    0.000000  0.000000e+00  1.000000e+00\n",
              "1        Put  Google      300  ...  131.137822  4.023017e-02 -5.736635e+01\n",
              "2       Call  Google     -300  ...   -7.216413  4.433586e-02  3.084472e-03\n",
              "3       Call   Apple      200  ...   -0.000005  1.842688e-08  7.917979e-10\n",
              "4        Put   Apple      200  ...   76.710768  1.842688e-08 -3.196282e+01\n",
              "5       Call   Apple     -400  ...   -0.000005  1.979327e-08  8.491643e-10\n",
              "6     Shares  Amazon     -200  ...    0.000000  0.000000e+00  1.000000e+00\n",
              "7       Call  Amazon      100  ...   -0.000194  7.899485e-07  3.751914e-08\n",
              "8       Call  Amazon      100  ...   -0.000201  8.176486e-07  3.879846e-08\n",
              "\n",
              "[9 rows x 10 columns]"
            ]
          },
          "metadata": {
            "tags": []
          },
          "execution_count": 5
        }
      ]
    },
    {
      "cell_type": "code",
      "metadata": {
        "id": "dLeaoYZ43s9L",
        "colab_type": "code",
        "outputId": "42c67532-5fa3-4f38-c973-bd8929b83713",
        "colab": {
          "base_uri": "https://localhost:8080/",
          "height": 0
        }
      },
      "source": [
        "# printing mean values of each Greek parameters\n",
        "print('Delta mean: {}'.format(portfolio_and_greeks['Delta'].mean()))\n",
        "print('Gamma mean: {}'.format(portfolio_and_greeks['Gamma'].mean()))\n",
        "print('Theta mean: {}'.format(portfolio_and_greeks['Theta'].mean()))\n",
        "print('Vega mean: {}'.format(portfolio_and_greeks['Vega'].mean()))\n",
        "print('Rho mean: {}'.format(portfolio_and_greeks['Rho'].mean()))"
      ],
      "execution_count": 6,
      "outputs": [
        {
          "output_type": "stream",
          "text": [
            "Delta mean: 0.7777677416087747\n",
            "Gamma mean: 6.794812881542678e-09\n",
            "Theta mean: 22.292419036401327\n",
            "Vega mean: 0.009396410323286274\n",
            "Rho mean: -9.702898997667418\n"
          ],
          "name": "stdout"
        }
      ]
    },
    {
      "cell_type": "markdown",
      "metadata": {
        "id": "h-w8i1wKaMHI",
        "colab_type": "text"
      },
      "source": [
        "#### Answer"
      ]
    },
    {
      "cell_type": "markdown",
      "metadata": {
        "id": "7ffCWxaYZusA",
        "colab_type": "text"
      },
      "source": [
        "\n",
        "\n",
        "*   As we see for Calls Delta is near 1 and for Puts - near to 0. It means that for Calls changing of underlying assets affects Call's values the same way (underlying assets raises for 1 leads to raise calls for 1 as well). For Puts, changes of underlying assets affects Puts values poorly (puts values remains more or less the same). Having mostly Calls, shares and only 2 Puts in whole portfolio, option behaves like the underlying security as shares does in terms of price changes. Overall - portfolio is sensitive for underlying asset price changes. Mean Delta value is 0.77 which tells that in average portfolio value changes in 0.77xchanges speed.\n",
        "*  Also we can notice, Gamma values for whole portfolio subjects tend to be close to 0 what tells us that Delta doesn't tend to change when underlying security changes in price. Deltas tend to keep same values - big for Calls which leads for keeping portfolio sensitive for changes in underlying asset prices. Mean Gamma value is 0.00000000679 that is ~ 0.\n",
        "*  Theta values, which represents how time affects option values, for Puts are big positive(but only two Puts in whole portfolio) and for Calls (majoroty of assets in whole portfolio) - small negative. In the other hand mean Theta value is 22.29 which is an indicator that even majority of assets are calls and shares, for puts time means a lot and overall portfolio is sensitive for time.\n",
        "*  Vega tells how volatility of price gonna change or how option price changes while implied volatily changes as well. For all the options in portfolio Vega values are really small what means that changes in implied volatility impacts portfolio value in a really small step as well.They are all small positive values which tells that if implied volatility raises, portfolio value raise reallly small as well and vice versa. So implied volatility isn't a factor to which portfolio is really sensitive. Mean Vega value is 0.009.\n",
        "*  Rho measures the sensitivity of an option to a change in interest rate. As we see from Rho values that only Puts has big absolute Rho values (big negatives) which says that changes in interest rates affects Puts values in the oposite direction (if interest rates decreases then Put values increases and vice versa). For Calls Rho values are really small positives, nearly close to 0 which means that changes in interest rates really poorely affects Call option values. Even majority of options are calls, mean Rho value is -9.70 which says that when interest rate increases portfolio value decreases by 9.7 points.\n",
        "\n",
        "*  **Resume**:\n",
        "Overall it seems that underlying asset price (stock price) plays biggest role for portfolio changes (Delta). Secondary comes time or Theta, and thirdy - interest rate or Rho. Portfolio is most sensitive for these parameters by the same order."
      ]
    },
    {
      "cell_type": "markdown",
      "metadata": {
        "id": "t96juhczaOle",
        "colab_type": "text"
      },
      "source": [
        "### With ML"
      ]
    },
    {
      "cell_type": "code",
      "metadata": {
        "id": "3lyPPxugMtXO",
        "colab_type": "code",
        "outputId": "a4cee393-30a2-4dd8-b7f1-709a6f7d24ce",
        "colab": {
          "base_uri": "https://localhost:8080/",
          "height": 403
        }
      },
      "source": [
        "# creating new dataframe with existing data of stock prices \n",
        "# and portfolio data for machine learning algorithm\n",
        "ml_data = data.copy()\n",
        "ml_data['Position 1'] = 300\n",
        "ml_data['Strike 1'] = 700\n",
        "ml_data['Position 2'] = -300\n",
        "ml_data['Strike 2'] = 850\n",
        "ml_data['Position 3'] = 200\n",
        "ml_data['Strike 3'] = 390\n",
        "ml_data['Position 4'] = 200\n",
        "ml_data['Strike 4'] = 390\n",
        "ml_data['Position 5'] = -400\n",
        "ml_data['Strike 5'] = 450\n",
        "ml_data['Position 6'] = 100\n",
        "ml_data['Strike 6'] = 280\n",
        "ml_data['Position 7'] = 100\n",
        "ml_data['Strike 7'] = 300\n",
        "ml_data['Interest rate'] = 0.2\n",
        "ml_data['Time'] = 1/12\n",
        "\n",
        "# dataframe of portfolio values over time\n",
        "portfolio_over_time = portfolio_values_over_time(stock_data=data, portfolio_data=portfolio)\n",
        "\n",
        "# display dataframe for machine learning algorithm and portfolio values over time dataframe\n",
        "display(ml_data.head(3))\n",
        "display(portfolio_over_time.head(3))"
      ],
      "execution_count": 16,
      "outputs": [
        {
          "output_type": "display_data",
          "data": {
            "text/html": [
              "<div>\n",
              "<style scoped>\n",
              "    .dataframe tbody tr th:only-of-type {\n",
              "        vertical-align: middle;\n",
              "    }\n",
              "\n",
              "    .dataframe tbody tr th {\n",
              "        vertical-align: top;\n",
              "    }\n",
              "\n",
              "    .dataframe thead th {\n",
              "        text-align: right;\n",
              "    }\n",
              "</style>\n",
              "<table border=\"1\" class=\"dataframe\">\n",
              "  <thead>\n",
              "    <tr style=\"text-align: right;\">\n",
              "      <th></th>\n",
              "      <th>IMPL VOL Apple</th>\n",
              "      <th>Price Apple</th>\n",
              "      <th>IMPL VOL Amazon</th>\n",
              "      <th>Price Amazon</th>\n",
              "      <th>IMPL VOL Google</th>\n",
              "      <th>Price Google</th>\n",
              "      <th>Position 1</th>\n",
              "      <th>Strike 1</th>\n",
              "      <th>Position 2</th>\n",
              "      <th>Strike 2</th>\n",
              "      <th>Position 3</th>\n",
              "      <th>Strike 3</th>\n",
              "      <th>Position 4</th>\n",
              "      <th>Strike 4</th>\n",
              "      <th>Position 5</th>\n",
              "      <th>Strike 5</th>\n",
              "      <th>Position 6</th>\n",
              "      <th>Strike 6</th>\n",
              "      <th>Position 7</th>\n",
              "      <th>Strike 7</th>\n",
              "      <th>Interest rate</th>\n",
              "      <th>Time</th>\n",
              "    </tr>\n",
              "    <tr>\n",
              "      <th>Date</th>\n",
              "      <th></th>\n",
              "      <th></th>\n",
              "      <th></th>\n",
              "      <th></th>\n",
              "      <th></th>\n",
              "      <th></th>\n",
              "      <th></th>\n",
              "      <th></th>\n",
              "      <th></th>\n",
              "      <th></th>\n",
              "      <th></th>\n",
              "      <th></th>\n",
              "      <th></th>\n",
              "      <th></th>\n",
              "      <th></th>\n",
              "      <th></th>\n",
              "      <th></th>\n",
              "      <th></th>\n",
              "      <th></th>\n",
              "      <th></th>\n",
              "      <th></th>\n",
              "      <th></th>\n",
              "    </tr>\n",
              "  </thead>\n",
              "  <tbody>\n",
              "    <tr>\n",
              "      <th>2010-06-01</th>\n",
              "      <td>44.97</td>\n",
              "      <td>257.04</td>\n",
              "      <td>51.18</td>\n",
              "      <td>123.24</td>\n",
              "      <td>41.00</td>\n",
              "      <td>482.37</td>\n",
              "      <td>300</td>\n",
              "      <td>700</td>\n",
              "      <td>-300</td>\n",
              "      <td>850</td>\n",
              "      <td>200</td>\n",
              "      <td>390</td>\n",
              "      <td>200</td>\n",
              "      <td>390</td>\n",
              "      <td>-400</td>\n",
              "      <td>450</td>\n",
              "      <td>100</td>\n",
              "      <td>280</td>\n",
              "      <td>100</td>\n",
              "      <td>300</td>\n",
              "      <td>0.2</td>\n",
              "      <td>0.083333</td>\n",
              "    </tr>\n",
              "    <tr>\n",
              "      <th>2010-06-02</th>\n",
              "      <td>43.26</td>\n",
              "      <td>260.11</td>\n",
              "      <td>46.68</td>\n",
              "      <td>126.31</td>\n",
              "      <td>38.11</td>\n",
              "      <td>493.37</td>\n",
              "      <td>300</td>\n",
              "      <td>700</td>\n",
              "      <td>-300</td>\n",
              "      <td>850</td>\n",
              "      <td>200</td>\n",
              "      <td>390</td>\n",
              "      <td>200</td>\n",
              "      <td>390</td>\n",
              "      <td>-400</td>\n",
              "      <td>450</td>\n",
              "      <td>100</td>\n",
              "      <td>280</td>\n",
              "      <td>100</td>\n",
              "      <td>300</td>\n",
              "      <td>0.2</td>\n",
              "      <td>0.083333</td>\n",
              "    </tr>\n",
              "    <tr>\n",
              "      <th>2010-06-03</th>\n",
              "      <td>40.29</td>\n",
              "      <td>259.29</td>\n",
              "      <td>45.58</td>\n",
              "      <td>128.76</td>\n",
              "      <td>35.79</td>\n",
              "      <td>505.60</td>\n",
              "      <td>300</td>\n",
              "      <td>700</td>\n",
              "      <td>-300</td>\n",
              "      <td>850</td>\n",
              "      <td>200</td>\n",
              "      <td>390</td>\n",
              "      <td>200</td>\n",
              "      <td>390</td>\n",
              "      <td>-400</td>\n",
              "      <td>450</td>\n",
              "      <td>100</td>\n",
              "      <td>280</td>\n",
              "      <td>100</td>\n",
              "      <td>300</td>\n",
              "      <td>0.2</td>\n",
              "      <td>0.083333</td>\n",
              "    </tr>\n",
              "  </tbody>\n",
              "</table>\n",
              "</div>"
            ],
            "text/plain": [
              "            IMPL VOL Apple  Price Apple  ...  Interest rate      Time\n",
              "Date                                     ...                         \n",
              "2010-06-01           44.97       257.04  ...            0.2  0.083333\n",
              "2010-06-02           43.26       260.11  ...            0.2  0.083333\n",
              "2010-06-03           40.29       259.29  ...            0.2  0.083333\n",
              "\n",
              "[3 rows x 22 columns]"
            ]
          },
          "metadata": {
            "tags": []
          }
        },
        {
          "output_type": "display_data",
          "data": {
            "text/html": [
              "<div>\n",
              "<style scoped>\n",
              "    .dataframe tbody tr th:only-of-type {\n",
              "        vertical-align: middle;\n",
              "    }\n",
              "\n",
              "    .dataframe tbody tr th {\n",
              "        vertical-align: top;\n",
              "    }\n",
              "\n",
              "    .dataframe thead th {\n",
              "        text-align: right;\n",
              "    }\n",
              "</style>\n",
              "<table border=\"1\" class=\"dataframe\">\n",
              "  <thead>\n",
              "    <tr style=\"text-align: right;\">\n",
              "      <th></th>\n",
              "      <th>Value</th>\n",
              "    </tr>\n",
              "  </thead>\n",
              "  <tbody>\n",
              "    <tr>\n",
              "      <th>2010-06-01</th>\n",
              "      <td>231831.778759</td>\n",
              "    </tr>\n",
              "    <tr>\n",
              "      <th>2010-06-02</th>\n",
              "      <td>231217.779373</td>\n",
              "    </tr>\n",
              "    <tr>\n",
              "      <th>2010-06-03</th>\n",
              "      <td>231381.783040</td>\n",
              "    </tr>\n",
              "  </tbody>\n",
              "</table>\n",
              "</div>"
            ],
            "text/plain": [
              "                    Value\n",
              "2010-06-01  231831.778759\n",
              "2010-06-02  231217.779373\n",
              "2010-06-03  231381.783040"
            ]
          },
          "metadata": {
            "tags": []
          }
        }
      ]
    },
    {
      "cell_type": "code",
      "metadata": {
        "id": "e-ukhZ7GbKqo",
        "colab_type": "code",
        "colab": {}
      },
      "source": [
        "# X_train - training features\n",
        "X_train = ml_data.values\n",
        "\n",
        "# Y_train - training targets\n",
        "Y_train = portfolio_over_time.values"
      ],
      "execution_count": 0,
      "outputs": []
    },
    {
      "cell_type": "code",
      "metadata": {
        "id": "PdVPDqwbMttM",
        "colab_type": "code",
        "outputId": "5f25196d-1e8f-42ea-84b8-e662ff4838ed",
        "colab": {
          "base_uri": "https://localhost:8080/",
          "height": 34
        }
      },
      "source": [
        "# creating Linear Regression model with Sklearn\n",
        "model = LinearRegression()\n",
        "\n",
        "# training model with given training features and targets\n",
        "model.fit(X_train, Y_train)"
      ],
      "execution_count": 9,
      "outputs": [
        {
          "output_type": "execute_result",
          "data": {
            "text/plain": [
              "LinearRegression(copy_X=True, fit_intercept=True, n_jobs=None, normalize=False)"
            ]
          },
          "metadata": {
            "tags": []
          },
          "execution_count": 9
        }
      ]
    },
    {
      "cell_type": "code",
      "metadata": {
        "id": "7zuEozxcMtwK",
        "colab_type": "code",
        "outputId": "ad0850c9-b2f2-41d7-b748-ee2e1390a020",
        "colab": {
          "base_uri": "https://localhost:8080/",
          "height": 102
        }
      },
      "source": [
        "# extracting trained model coeficients for each feature we fed\n",
        "coeficients = np.abs(np.around(model.coef_, 3))\n",
        "coeficients"
      ],
      "execution_count": 10,
      "outputs": [
        {
          "output_type": "execute_result",
          "data": {
            "text/plain": [
              "array([[4.35000e-01, 1.99995e+02, 1.19400e+00, 2.15000e-01, 3.29000e+00,\n",
              "        7.90000e-02, 0.00000e+00, 0.00000e+00, 0.00000e+00, 0.00000e+00,\n",
              "        0.00000e+00, 0.00000e+00, 0.00000e+00, 0.00000e+00, 0.00000e+00,\n",
              "        0.00000e+00, 0.00000e+00, 0.00000e+00, 0.00000e+00, 0.00000e+00,\n",
              "        0.00000e+00, 0.00000e+00]])"
            ]
          },
          "metadata": {
            "tags": []
          },
          "execution_count": 10
        }
      ]
    },
    {
      "cell_type": "code",
      "metadata": {
        "id": "K8HGnPBEMt1S",
        "colab_type": "code",
        "outputId": "bbb76ebd-79f6-401f-88ed-ea40a06ef970",
        "colab": {
          "base_uri": "https://localhost:8080/",
          "height": 51
        }
      },
      "source": [
        "# volatility feature coeficient\n",
        "volatility_coef = np.round((coeficients[0][0] + coeficients[0][2] +  coeficients[0][4])/3, 3)\n",
        "\n",
        "# stock price feature coeficient\n",
        "price_coef = np.round((coeficients[0][1] + coeficients[0][3] +  coeficients[0][5])/3, 3)\n",
        "\n",
        "# print coeficients mean values\n",
        "print('Volatility coef: {}'.format(volatility_coef))\n",
        "print('Price coef: {}'.format(price_coef))"
      ],
      "execution_count": 11,
      "outputs": [
        {
          "output_type": "stream",
          "text": [
            "Volatility coef: 1.64\n",
            "Price coef: 66.763\n"
          ],
          "name": "stdout"
        }
      ]
    },
    {
      "cell_type": "markdown",
      "metadata": {
        "id": "IJurL_c3hLyQ",
        "colab_type": "text"
      },
      "source": [
        "### Correlation"
      ]
    },
    {
      "cell_type": "code",
      "metadata": {
        "id": "dlD60eH6btms",
        "colab_type": "code",
        "colab": {}
      },
      "source": [
        "ml_data['Value'] = portfolio_over_time.values"
      ],
      "execution_count": 0,
      "outputs": []
    },
    {
      "cell_type": "code",
      "metadata": {
        "id": "i46LPblWatqK",
        "colab_type": "code",
        "outputId": "fc1735b4-0ec8-4b46-96c5-6aa3284b8b43",
        "colab": {
          "base_uri": "https://localhost:8080/",
          "height": 470
        }
      },
      "source": [
        "corr = ml_data.corr()\n",
        "\n",
        "plt.figure(figsize=(12,6))\n",
        "sns.heatmap(data=corr, cmap='coolwarm_r')\n",
        "plt.title('SubSample Correlation Matrix')\n",
        "plt.show()"
      ],
      "execution_count": 19,
      "outputs": [
        {
          "output_type": "display_data",
          "data": {
            "image/png": "[encoded data removed]",
            "text/plain": [
              "<Figure size 864x432 with 2 Axes>"
            ]
          },
          "metadata": {
            "tags": []
          }
        }
      ]
    },
    {
      "cell_type": "code",
      "metadata": {
        "id": "muYx2uDncfCD",
        "colab_type": "code",
        "colab": {
          "base_uri": "https://localhost:8080/",
          "height": 295
        },
        "outputId": "0ce44bf7-499a-473b-86e4-f3c59842dd0a"
      },
      "source": [
        "f, axes = plt.subplots(1,3, figsize=(20,4))\n",
        "\n",
        "sns.regplot(x=ml_data['Price Apple'], y=ml_data['Value'], ax=axes[0], )\n",
        "# x='Price Apple', y='Value', data=ml_data, ax=axes[0]\n",
        "axes[0].set_title('Apple stock price correlation with portfolio value')\n",
        "\n",
        "sns.regplot(x=ml_data['Price Amazon'], y=ml_data['Value'], ax=axes[1])\n",
        "axes[1].set_title('Amazon stock price correlation with portfolio value')\n",
        "\n",
        "sns.regplot(x=ml_data['Price Google'], y=ml_data['Value'], ax=axes[2])\n",
        "axes[2].set_title('Google stock price correlation with portfolio value')\n",
        "\n",
        "plt.show()"
      ],
      "execution_count": 26,
      "outputs": [
        {
          "output_type": "display_data",
          "data": {
            "image/png": "[encoded data removed]",
            "text/plain": [
              "<Figure size 1440x288 with 3 Axes>"
            ]
          },
          "metadata": {
            "tags": []
          }
        }
      ]
    },
    {
      "cell_type": "code",
      "metadata": {
        "id": "oysSNhzNeqpS",
        "colab_type": "code",
        "colab": {
          "base_uri": "https://localhost:8080/",
          "height": 295
        },
        "outputId": "98e826e9-3827-4a4d-e8e5-5b1cbcaccc3e"
      },
      "source": [
        "f, axes = plt.subplots(1,3, figsize=(20,4))\n",
        "\n",
        "sns.regplot(x='IMPL VOL Apple', y='Value', data=ml_data, ax=axes[0], )\n",
        "# x='Price Apple', y='Value', data=ml_data, ax=axes[0]\n",
        "axes[0].set_title('Apple IMPL VOL correlation with portfolio value')\n",
        "\n",
        "sns.regplot(x='IMPL VOL Amazon', y='Value', data=ml_data, ax=axes[1])\n",
        "axes[1].set_title('Amazon IMPL VOL correlation with portfolio value')\n",
        "\n",
        "sns.regplot(x='IMPL VOL Google', y='Value', data=ml_data, ax=axes[2])\n",
        "axes[2].set_title('Google IMPL VOL correlation with portfolio value')\n",
        "\n",
        "plt.show()"
      ],
      "execution_count": 28,
      "outputs": [
        {
          "output_type": "display_data",
          "data": {
            "image/png": "[encoded data removed]",
            "text/plain": [
              "<Figure size 1440x288 with 3 Axes>"
            ]
          },
          "metadata": {
            "tags": []
          }
        }
      ]
    },
    {
      "cell_type": "markdown",
      "metadata": {
        "id": "QbS4rDr7dYU0",
        "colab_type": "text"
      },
      "source": [
        "#### Answer"
      ]
    },
    {
      "cell_type": "markdown",
      "metadata": {
        "id": "x_VypUR1dbLX",
        "colab_type": "text"
      },
      "source": [
        "Based Linear Regression model coeficients, biggest impact has Stock prices if we assumes only options and exclude Shares.  \n",
        "Biggest absolute values of coeficients are for price features. Because model does not see changes in other features (rate, time on other) then it has no power to include them into fit process. Thats why it uses only two features from all of them to predict portfolio value and that's why only two coeficients we've got. From them in average bigger value has price's coef.  \n",
        "Also by looking on correlations we can clearly notice that price negatively correlates with final portfolio value more agressively than volatilities correlates (because of the fitted regression line steaps)."
      ]
    },
    {
      "cell_type": "markdown",
      "metadata": {
        "id": "Mpj0_leN4PnN",
        "colab_type": "text"
      },
      "source": [
        "# Question 2:  "
      ]
    },
    {
      "cell_type": "markdown",
      "metadata": {
        "id": "o5s0lIAhglu3",
        "colab_type": "text"
      },
      "source": [
        "## At which date would the portfolio suffer the largest loss?"
      ]
    },
    {
      "cell_type": "code",
      "metadata": {
        "id": "LOQEDVLuZOP4",
        "colab_type": "code",
        "outputId": "734e308f-bb49-4098-ad6d-be46ae923553",
        "colab": {
          "base_uri": "https://localhost:8080/"
        }
      },
      "source": [
        "# first 5 portfolio values over time\n",
        "portfolio_over_time.head()"
      ],
      "execution_count": 0,
      "outputs": [
        {
          "output_type": "execute_result",
          "data": {
            "text/html": [
              "<div>\n",
              "<style scoped>\n",
              "    .dataframe tbody tr th:only-of-type {\n",
              "        vertical-align: middle;\n",
              "    }\n",
              "\n",
              "    .dataframe tbody tr th {\n",
              "        vertical-align: top;\n",
              "    }\n",
              "\n",
              "    .dataframe thead th {\n",
              "        text-align: right;\n",
              "    }\n",
              "</style>\n",
              "<table border=\"1\" class=\"dataframe\">\n",
              "  <thead>\n",
              "    <tr style=\"text-align: right;\">\n",
              "      <th></th>\n",
              "      <th>Value</th>\n",
              "    </tr>\n",
              "  </thead>\n",
              "  <tbody>\n",
              "    <tr>\n",
              "      <th>2010-06-01</th>\n",
              "      <td>231831.778759</td>\n",
              "    </tr>\n",
              "    <tr>\n",
              "      <th>2010-06-02</th>\n",
              "      <td>231217.779373</td>\n",
              "    </tr>\n",
              "    <tr>\n",
              "      <th>2010-06-03</th>\n",
              "      <td>231381.783040</td>\n",
              "    </tr>\n",
              "    <tr>\n",
              "      <th>2010-06-04</th>\n",
              "      <td>232791.778967</td>\n",
              "    </tr>\n",
              "    <tr>\n",
              "      <th>2010-06-07</th>\n",
              "      <td>233781.778742</td>\n",
              "    </tr>\n",
              "  </tbody>\n",
              "</table>\n",
              "</div>"
            ],
            "text/plain": [
              "                    Value\n",
              "2010-06-01  231831.778759\n",
              "2010-06-02  231217.779373\n",
              "2010-06-03  231381.783040\n",
              "2010-06-04  232791.778967\n",
              "2010-06-07  233781.778742"
            ]
          },
          "metadata": {
            "tags": []
          },
          "execution_count": 12
        }
      ]
    },
    {
      "cell_type": "code",
      "metadata": {
        "id": "R1zOe6XmZOLW",
        "colab_type": "code",
        "outputId": "532f8eb5-7d2b-4c25-8025-76b20b23f50e",
        "colab": {
          "base_uri": "https://localhost:8080/"
        }
      },
      "source": [
        "# plotting portfolio values over time\n",
        "plt.figure(figsize=(14,8))\n",
        "sns.lineplot(data=portfolio_over_time)\n",
        "plt.title('Portfolio values over time')\n",
        "plt.grid()\n",
        "plt.xlabel('Date')\n",
        "plt.ylabel('Value')\n",
        "plt.show()"
      ],
      "execution_count": 0,
      "outputs": [
        {
          "output_type": "stream",
          "text": [
            "/usr/local/lib/python3.6/dist-packages/pandas/plotting/_converter.py:129: FutureWarning: Using an implicitly registered datetime converter for a matplotlib plotting method. The converter was registered by pandas on import. Future versions of pandas will require you to explicitly register matplotlib converters.\n",
            "\n",
            "To register the converters:\n",
            "\t>>> from pandas.plotting import register_matplotlib_converters\n",
            "\t>>> register_matplotlib_converters()\n",
            "  warnings.warn(msg, FutureWarning)\n"
          ],
          "name": "stderr"
        },
        {
          "output_type": "display_data",
          "data": {
            "image/png": "[encoded data removed]",
            "text/plain": [
              "<Figure size 1008x576 with 1 Axes>"
            ]
          },
          "metadata": {
            "tags": []
          }
        }
      ]
    },
    {
      "cell_type": "code",
      "metadata": {
        "id": "wQDzcfOED3fA",
        "colab_type": "code",
        "colab": {}
      },
      "source": [
        "# min value of portfolio over time\n",
        "min_value = portfolio_over_time.min().values[0]\n",
        "\n",
        "# date when portfolio value was lowest\n",
        "min_value_date = portfolio_over_time.loc[portfolio_over_time['Value'] == min_value].index[0]"
      ],
      "execution_count": 0,
      "outputs": []
    },
    {
      "cell_type": "code",
      "metadata": {
        "id": "flk-LAWYg8rm",
        "colab_type": "code",
        "outputId": "09cfd77d-ce97-4d1c-9f90-29a9c27b54ca",
        "colab": {
          "base_uri": "https://localhost:8080/"
        }
      },
      "source": [
        "# print result\n",
        "print('Date when portfolio value was lowest is: {}'.format(min_value_date))"
      ],
      "execution_count": 0,
      "outputs": [
        {
          "output_type": "stream",
          "text": [
            "Date when portfolio value was lowest is: 2012-09-19 00:00:00\n"
          ],
          "name": "stdout"
        }
      ]
    },
    {
      "cell_type": "markdown",
      "metadata": {
        "id": "qkDVNBGWgwLD",
        "colab_type": "text"
      },
      "source": [
        "### Answer"
      ]
    },
    {
      "cell_type": "markdown",
      "metadata": {
        "id": "p2aAKT8zgyyx",
        "colab_type": "text"
      },
      "source": [
        "Date when portfolio value was lowest (biggest loss) is: 2012-09-19\n"
      ]
    },
    {
      "cell_type": "markdown",
      "metadata": {
        "id": "PoExlVejhWkP",
        "colab_type": "text"
      },
      "source": [
        "## How much did the risk factor move on that date?"
      ]
    },
    {
      "cell_type": "markdown",
      "metadata": {
        "id": "dmc6ddqpy8EV",
        "colab_type": "text"
      },
      "source": [
        " **Here I will calculate how much risk factors changed from the day before min porfolio value date till that day**"
      ]
    },
    {
      "cell_type": "code",
      "metadata": {
        "id": "wQyWpwq0g5gV",
        "colab_type": "code",
        "outputId": "f5741b0b-9534-46ec-8294-867b2e9b0d9b",
        "colab": {
          "base_uri": "https://localhost:8080/"
        }
      },
      "source": [
        "# portfilio value day before minimum portfolio value day\n",
        "portfolio_value_min1 = portfolio_value(date='2012-09-18', stock_data=data, portfolio_data=portfolio, r=r)\n",
        "# Greek parameter list of the day before minimum portfolio value day\n",
        "greeks_list1 = portfolio_greeks(date='2012-09-18', stock_data=data, portfolio_data=portfolio, r=r)\n",
        "\n",
        "# portfilio value on the day when portfolio value was minimum\n",
        "portfolio_value_min2 = portfolio_value(date=min_value_date, stock_data=data, portfolio_data=portfolio, r=r)\n",
        "# Greek parameter list on the day when portfolio value was minimum\n",
        "greeks_list2 = portfolio_greeks(date=min_value_date, stock_data=data, portfolio_data=portfolio, r=r)\n",
        "\n",
        "# printing results\n",
        "print('Portfolio value on {} is {}'.format('2012-09-18 00:00:00', portfolio_value_min1))\n",
        "print('Portfolio value on {} is {}'.format(min_value_date, portfolio_value_min2))"
      ],
      "execution_count": 0,
      "outputs": [
        {
          "output_type": "stream",
          "text": [
            "Portfolio value on 2012-09-18 00:00:00 is 144306.9362656965\n",
            "Portfolio value on 2012-09-19 00:00:00 is 144269.39062939578\n"
          ],
          "name": "stdout"
        }
      ]
    },
    {
      "cell_type": "code",
      "metadata": {
        "id": "WKxA7tjqZOGy",
        "colab_type": "code",
        "colab": {}
      },
      "source": [
        "# Greek factors the day before minimum portfolio value dataframe\n",
        "greeks_df1 = pd.DataFrame(greeks_list1, columns=['Delta', 'Gamma', 'Theta', 'Vega', 'Rho'])\n",
        "\n",
        "# Greek factors on the day when porfolio value was minimum\n",
        "greeks_df2 = pd.DataFrame(greeks_list2, columns=['Delta', 'Gamma', 'Theta', 'Vega', 'Rho'])"
      ],
      "execution_count": 0,
      "outputs": []
    },
    {
      "cell_type": "code",
      "metadata": {
        "id": "AEDaSCOms3xV",
        "colab_type": "code",
        "colab": {}
      },
      "source": [
        "# Deltas mean values on both days\n",
        "Delta1 = greeks_df1['Delta'].mean()\n",
        "Delta2 = greeks_df2['Delta'].mean()\n",
        "\n",
        "# Gammas mean values on both days\n",
        "Gamma1 = greeks_df1['Gamma'].mean()\n",
        "Gamma2 = greeks_df2['Gamma'].mean()\n",
        "\n",
        "# Thetas mean values on both days\n",
        "Theta1 = greeks_df1['Theta'].mean()\n",
        "Theta2 = greeks_df2['Theta'].mean()\n",
        "\n",
        "# Vegas mean values on both days\n",
        "Vega1 = greeks_df1['Vega'].mean()\n",
        "Vega2 = greeks_df2['Vega'].mean()\n",
        "\n",
        "# Rhoes mean values on both days\n",
        "Rho1 = greeks_df1['Rho'].mean()\n",
        "Rho2 = greeks_df2['Rho'].mean()"
      ],
      "execution_count": 0,
      "outputs": []
    },
    {
      "cell_type": "code",
      "metadata": {
        "id": "vbc_Abc_s3z7",
        "colab_type": "code",
        "outputId": "9d255e6b-22c2-47c5-c2bb-13678e068406",
        "colab": {
          "base_uri": "https://localhost:8080/"
        }
      },
      "source": [
        "# building both days Greek parameters mean values comparison dictionary\n",
        "comparison_dict = {'Delta': [Delta1, Delta2], 'Gamma': [Gamma1, Gamma2], 'Theta': [Theta1, Theta2], 'Vega': [Vega1, Vega2], 'Rho': [Rho1, Rho2]}\n",
        "\n",
        "# building both days Greek parameters mean values comparison dataframe\n",
        "comparison_df = pd.DataFrame.from_dict(comparison_dict, orient='index', columns=['2012-09-18','2012-09-19'])\n",
        "\n",
        "# display Greek parameters mean values in both days\n",
        "display(comparison_df)\n",
        "\n",
        "# display stock prices and volatilities day before minimum portfolio value day\n",
        "display(display(get_row('2012-09-18', df=data)))\n",
        "# display stock prices and volatilities when portfolio value was minimum\n",
        "display(display(get_row(min_value_date, df=data)))"
      ],
      "execution_count": 0,
      "outputs": [
        {
          "output_type": "display_data",
          "data": {
            "text/html": [
              "<div>\n",
              "<style scoped>\n",
              "    .dataframe tbody tr th:only-of-type {\n",
              "        vertical-align: middle;\n",
              "    }\n",
              "\n",
              "    .dataframe tbody tr th {\n",
              "        vertical-align: top;\n",
              "    }\n",
              "\n",
              "    .dataframe thead th {\n",
              "        text-align: right;\n",
              "    }\n",
              "</style>\n",
              "<table border=\"1\" class=\"dataframe\">\n",
              "  <thead>\n",
              "    <tr style=\"text-align: right;\">\n",
              "      <th></th>\n",
              "      <th>2012-09-18</th>\n",
              "      <th>2012-09-19</th>\n",
              "    </tr>\n",
              "  </thead>\n",
              "  <tbody>\n",
              "    <tr>\n",
              "      <th>Delta</th>\n",
              "      <td>7.777491e-01</td>\n",
              "      <td>7.777369e-01</td>\n",
              "    </tr>\n",
              "    <tr>\n",
              "      <th>Gamma</th>\n",
              "      <td>2.767338e-08</td>\n",
              "      <td>3.938902e-08</td>\n",
              "    </tr>\n",
              "    <tr>\n",
              "      <th>Theta</th>\n",
              "      <td>2.039853e+01</td>\n",
              "      <td>1.918546e+01</td>\n",
              "    </tr>\n",
              "    <tr>\n",
              "      <th>Vega</th>\n",
              "      <td>2.146332e-02</td>\n",
              "      <td>2.995216e-02</td>\n",
              "    </tr>\n",
              "    <tr>\n",
              "      <th>Rho</th>\n",
              "      <td>-9.702007e+00</td>\n",
              "      <td>-9.701332e+00</td>\n",
              "    </tr>\n",
              "  </tbody>\n",
              "</table>\n",
              "</div>"
            ],
            "text/plain": [
              "         2012-09-18    2012-09-19\n",
              "Delta  7.777491e-01  7.777369e-01\n",
              "Gamma  2.767338e-08  3.938902e-08\n",
              "Theta  2.039853e+01  1.918546e+01\n",
              "Vega   2.146332e-02  2.995216e-02\n",
              "Rho   -9.702007e+00 -9.701332e+00"
            ]
          },
          "metadata": {
            "tags": []
          }
        },
        {
          "output_type": "display_data",
          "data": {
            "text/html": [
              "<div>\n",
              "<style scoped>\n",
              "    .dataframe tbody tr th:only-of-type {\n",
              "        vertical-align: middle;\n",
              "    }\n",
              "\n",
              "    .dataframe tbody tr th {\n",
              "        vertical-align: top;\n",
              "    }\n",
              "\n",
              "    .dataframe thead th {\n",
              "        text-align: right;\n",
              "    }\n",
              "</style>\n",
              "<table border=\"1\" class=\"dataframe\">\n",
              "  <thead>\n",
              "    <tr style=\"text-align: right;\">\n",
              "      <th></th>\n",
              "      <th>IMPL VOL Apple</th>\n",
              "      <th>Price Apple</th>\n",
              "      <th>IMPL VOL Amazon</th>\n",
              "      <th>Price Amazon</th>\n",
              "      <th>IMPL VOL Google</th>\n",
              "      <th>Price Google</th>\n",
              "    </tr>\n",
              "    <tr>\n",
              "      <th>Date</th>\n",
              "      <th></th>\n",
              "      <th></th>\n",
              "      <th></th>\n",
              "      <th></th>\n",
              "      <th></th>\n",
              "      <th></th>\n",
              "    </tr>\n",
              "  </thead>\n",
              "  <tbody>\n",
              "    <tr>\n",
              "      <th>2012-09-18</th>\n",
              "      <td>26.01</td>\n",
              "      <td>694.67</td>\n",
              "      <td>28.56</td>\n",
              "      <td>258.75</td>\n",
              "      <td>29.33</td>\n",
              "      <td>718.28</td>\n",
              "    </tr>\n",
              "  </tbody>\n",
              "</table>\n",
              "</div>"
            ],
            "text/plain": [
              "            IMPL VOL Apple  Price Apple  ...  IMPL VOL Google  Price Google\n",
              "Date                                     ...                               \n",
              "2012-09-18           26.01       694.67  ...            29.33        718.28\n",
              "\n",
              "[1 rows x 6 columns]"
            ]
          },
          "metadata": {
            "tags": []
          }
        },
        {
          "output_type": "display_data",
          "data": {
            "text/plain": [
              "None"
            ]
          },
          "metadata": {
            "tags": []
          }
        },
        {
          "output_type": "display_data",
          "data": {
            "text/html": [
              "<div>\n",
              "<style scoped>\n",
              "    .dataframe tbody tr th:only-of-type {\n",
              "        vertical-align: middle;\n",
              "    }\n",
              "\n",
              "    .dataframe tbody tr th {\n",
              "        vertical-align: top;\n",
              "    }\n",
              "\n",
              "    .dataframe thead th {\n",
              "        text-align: right;\n",
              "    }\n",
              "</style>\n",
              "<table border=\"1\" class=\"dataframe\">\n",
              "  <thead>\n",
              "    <tr style=\"text-align: right;\">\n",
              "      <th></th>\n",
              "      <th>IMPL VOL Apple</th>\n",
              "      <th>Price Apple</th>\n",
              "      <th>IMPL VOL Amazon</th>\n",
              "      <th>Price Amazon</th>\n",
              "      <th>IMPL VOL Google</th>\n",
              "      <th>Price Google</th>\n",
              "    </tr>\n",
              "    <tr>\n",
              "      <th>Date</th>\n",
              "      <th></th>\n",
              "      <th></th>\n",
              "      <th></th>\n",
              "      <th></th>\n",
              "      <th></th>\n",
              "      <th></th>\n",
              "    </tr>\n",
              "  </thead>\n",
              "  <tbody>\n",
              "    <tr>\n",
              "      <th>2012-09-19</th>\n",
              "      <td>25.29</td>\n",
              "      <td>694.86</td>\n",
              "      <td>28.01</td>\n",
              "      <td>261.68</td>\n",
              "      <td>29.58</td>\n",
              "      <td>727.5</td>\n",
              "    </tr>\n",
              "  </tbody>\n",
              "</table>\n",
              "</div>"
            ],
            "text/plain": [
              "            IMPL VOL Apple  Price Apple  ...  IMPL VOL Google  Price Google\n",
              "Date                                     ...                               \n",
              "2012-09-19           25.29       694.86  ...            29.58         727.5\n",
              "\n",
              "[1 rows x 6 columns]"
            ]
          },
          "metadata": {
            "tags": []
          }
        },
        {
          "output_type": "display_data",
          "data": {
            "text/plain": [
              "None"
            ]
          },
          "metadata": {
            "tags": []
          }
        }
      ]
    },
    {
      "cell_type": "code",
      "metadata": {
        "id": "2-yiUbFO-EEe",
        "colab_type": "code",
        "outputId": "6804bec8-a441-413e-8f3a-8e72e875659c",
        "colab": {
          "base_uri": "https://localhost:8080/"
        }
      },
      "source": [
        "# changes of Greek parameters from day before minimum portfolio value day to that day\n",
        "display(comparison_df['2012-09-18']-comparison_df['2012-09-19'])"
      ],
      "execution_count": 0,
      "outputs": [
        {
          "output_type": "display_data",
          "data": {
            "text/plain": [
              "Delta    1.226139e-05\n",
              "Gamma   -1.171564e-08\n",
              "Theta    1.213072e+00\n",
              "Vega    -8.488840e-03\n",
              "Rho     -6.748304e-04\n",
              "dtype: float64"
            ]
          },
          "metadata": {
            "tags": []
          }
        }
      ]
    },
    {
      "cell_type": "markdown",
      "metadata": {
        "id": "E08tXv9F7xqO",
        "colab_type": "text"
      },
      "source": [
        "#### Answer"
      ]
    },
    {
      "cell_type": "markdown",
      "metadata": {
        "id": "aq6Jc4k87zg7",
        "colab_type": "text"
      },
      "source": [
        "Since day before minimal portfolio value day till minimal portfolio value day, average Greek risk factors decreased by:\n",
        "\n",
        "*   Delta: 1.226139e-05\n",
        "*   Gamma: -1.171564e-08\n",
        "*   Theta    1.213072e+00\n",
        "*   Vega    -8.488840e-03\n",
        "*   Rho     -6.748304e-04\n"
      ]
    },
    {
      "cell_type": "markdown",
      "metadata": {
        "id": "GmSI9nsciqIx",
        "colab_type": "text"
      },
      "source": [
        "# Question 3"
      ]
    },
    {
      "cell_type": "markdown",
      "metadata": {
        "id": "MCsKbcMHiwZr",
        "colab_type": "text"
      },
      "source": [
        "## What would be variance-covariance Value at Risk of the portfolio for 1 day horizon and confidence interval: 99%?\n"
      ]
    },
    {
      "cell_type": "code",
      "metadata": {
        "id": "s1v3fgDhiyTN",
        "colab_type": "code",
        "outputId": "53d619c8-796c-425d-9b16-91d50c7cad6a",
        "colab": {
          "base_uri": "https://localhost:8080/"
        }
      },
      "source": [
        "# first 5 portfolio values over time\n",
        "portfolio_over_time.head()"
      ],
      "execution_count": 0,
      "outputs": [
        {
          "output_type": "execute_result",
          "data": {
            "text/html": [
              "<div>\n",
              "<style scoped>\n",
              "    .dataframe tbody tr th:only-of-type {\n",
              "        vertical-align: middle;\n",
              "    }\n",
              "\n",
              "    .dataframe tbody tr th {\n",
              "        vertical-align: top;\n",
              "    }\n",
              "\n",
              "    .dataframe thead th {\n",
              "        text-align: right;\n",
              "    }\n",
              "</style>\n",
              "<table border=\"1\" class=\"dataframe\">\n",
              "  <thead>\n",
              "    <tr style=\"text-align: right;\">\n",
              "      <th></th>\n",
              "      <th>Value</th>\n",
              "    </tr>\n",
              "  </thead>\n",
              "  <tbody>\n",
              "    <tr>\n",
              "      <th>2010-06-01</th>\n",
              "      <td>231831.778759</td>\n",
              "    </tr>\n",
              "    <tr>\n",
              "      <th>2010-06-02</th>\n",
              "      <td>231217.779373</td>\n",
              "    </tr>\n",
              "    <tr>\n",
              "      <th>2010-06-03</th>\n",
              "      <td>231381.783040</td>\n",
              "    </tr>\n",
              "    <tr>\n",
              "      <th>2010-06-04</th>\n",
              "      <td>232791.778967</td>\n",
              "    </tr>\n",
              "    <tr>\n",
              "      <th>2010-06-07</th>\n",
              "      <td>233781.778742</td>\n",
              "    </tr>\n",
              "  </tbody>\n",
              "</table>\n",
              "</div>"
            ],
            "text/plain": [
              "                    Value\n",
              "2010-06-01  231831.778759\n",
              "2010-06-02  231217.779373\n",
              "2010-06-03  231381.783040\n",
              "2010-06-04  232791.778967\n",
              "2010-06-07  233781.778742"
            ]
          },
          "metadata": {
            "tags": []
          },
          "execution_count": 21
        }
      ]
    },
    {
      "cell_type": "code",
      "metadata": {
        "id": "Xi_dCwJD2YWJ",
        "colab_type": "code",
        "outputId": "4cb81cdd-be45-4e60-9c36-da74cc3682c6",
        "colab": {
          "base_uri": "https://localhost:8080/"
        }
      },
      "source": [
        "# list of portfolio changes in percent over time\n",
        "portfolio_changes = calc_portfolio_changes(portfolio_over_time)\n",
        "\n",
        "# dataframe with portfolio values and value changes over time\n",
        "values_and_changes = portfolio_over_time.copy()\n",
        "values_and_changes['Changes'] = portfolio_changes\n",
        "values_and_changes.head()"
      ],
      "execution_count": 0,
      "outputs": [
        {
          "output_type": "execute_result",
          "data": {
            "text/html": [
              "<div>\n",
              "<style scoped>\n",
              "    .dataframe tbody tr th:only-of-type {\n",
              "        vertical-align: middle;\n",
              "    }\n",
              "\n",
              "    .dataframe tbody tr th {\n",
              "        vertical-align: top;\n",
              "    }\n",
              "\n",
              "    .dataframe thead th {\n",
              "        text-align: right;\n",
              "    }\n",
              "</style>\n",
              "<table border=\"1\" class=\"dataframe\">\n",
              "  <thead>\n",
              "    <tr style=\"text-align: right;\">\n",
              "      <th></th>\n",
              "      <th>Value</th>\n",
              "      <th>Changes</th>\n",
              "    </tr>\n",
              "  </thead>\n",
              "  <tbody>\n",
              "    <tr>\n",
              "      <th>2010-06-01</th>\n",
              "      <td>231831.778759</td>\n",
              "      <td>0.000000</td>\n",
              "    </tr>\n",
              "    <tr>\n",
              "      <th>2010-06-02</th>\n",
              "      <td>231217.779373</td>\n",
              "      <td>-0.265550</td>\n",
              "    </tr>\n",
              "    <tr>\n",
              "      <th>2010-06-03</th>\n",
              "      <td>231381.783040</td>\n",
              "      <td>0.070880</td>\n",
              "    </tr>\n",
              "    <tr>\n",
              "      <th>2010-06-04</th>\n",
              "      <td>232791.778967</td>\n",
              "      <td>0.605690</td>\n",
              "    </tr>\n",
              "    <tr>\n",
              "      <th>2010-06-07</th>\n",
              "      <td>233781.778742</td>\n",
              "      <td>0.423472</td>\n",
              "    </tr>\n",
              "  </tbody>\n",
              "</table>\n",
              "</div>"
            ],
            "text/plain": [
              "                    Value   Changes\n",
              "2010-06-01  231831.778759  0.000000\n",
              "2010-06-02  231217.779373 -0.265550\n",
              "2010-06-03  231381.783040  0.070880\n",
              "2010-06-04  232791.778967  0.605690\n",
              "2010-06-07  233781.778742  0.423472"
            ]
          },
          "metadata": {
            "tags": []
          },
          "execution_count": 22
        }
      ]
    },
    {
      "cell_type": "code",
      "metadata": {
        "id": "NNzSaMETYnV-",
        "colab_type": "code",
        "colab": {}
      },
      "source": [
        "# sorting portfolio value changes over time in ascending order\n",
        "portfolio_changes.sort()"
      ],
      "execution_count": 0,
      "outputs": []
    },
    {
      "cell_type": "code",
      "metadata": {
        "id": "nHxDY0LpUVHB",
        "colab_type": "code",
        "outputId": "404318a3-d389-442f-eaed-b54494059074",
        "colab": {
          "base_uri": "https://localhost:8080/"
        }
      },
      "source": [
        "# plotting changes histogram and its normal distribution\n",
        "norm_array = stats.norm.pdf(portfolio_changes) \n",
        "plt.figure(figsize=(14,8))\n",
        "ax = sns.distplot(a=portfolio_changes, kde=False, norm_hist=True)\n",
        "plt.grid()\n",
        "plt.ylabel('Normalized changes frequency')\n",
        "plt.xlabel('Portfolio value changes in %')\n",
        "plt.title('Portfolio changes histogram')\n",
        "ax.plot(portfolio_changes, norm_array, 'r', lw=2)\n",
        "plt.show()"
      ],
      "execution_count": 0,
      "outputs": [
        {
          "output_type": "display_data",
          "data": {
            "image/png": "[encoded data removed]",
            "text/plain": [
              "<Figure size 1008x576 with 1 Axes>"
            ]
          },
          "metadata": {
            "tags": []
          }
        }
      ]
    },
    {
      "cell_type": "code",
      "metadata": {
        "id": "d9cniDImit5w",
        "colab_type": "code",
        "outputId": "de71607a-aa84-426f-eea9-fe12d0e36228",
        "colab": {
          "base_uri": "https://localhost:8080/"
        }
      },
      "source": [
        "# standard deviation on exact data - portfolio value changes\n",
        "std = np.std(portfolio_changes)\n",
        "\n",
        "# variance-covariance VaR  with confident==99% - value of worst 1% portfolio value changes \n",
        "vc_var = np.round(- 2.33*std, 3)\n",
        "\n",
        "# print results\n",
        "print('Variance-covariance VaR for 1 day horizon and confidence interval equal to 99% is {} %'.format(vc_var))"
      ],
      "execution_count": 0,
      "outputs": [
        {
          "output_type": "stream",
          "text": [
            "Variance-covariance VaR for 1 day horizon and confidence interval equal to 99% is -2.101 %\n"
          ],
          "name": "stdout"
        }
      ]
    },
    {
      "cell_type": "markdown",
      "metadata": {
        "id": "uQgxgCoGqR-m",
        "colab_type": "text"
      },
      "source": [
        "### Answer"
      ]
    },
    {
      "cell_type": "markdown",
      "metadata": {
        "id": "apyODJAIqTaq",
        "colab_type": "text"
      },
      "source": [
        "Variance-covariance VaR for 1 day horizon and confidence==99% is -2.101 %"
      ]
    },
    {
      "cell_type": "markdown",
      "metadata": {
        "id": "23X2_zcMqgY5",
        "colab_type": "text"
      },
      "source": [
        "# Question 4"
      ]
    },
    {
      "cell_type": "markdown",
      "metadata": {
        "id": "G7KM27Mlql9y",
        "colab_type": "text"
      },
      "source": [
        "## What would be historical simulation Value at Risk of the portfolio for 1 day horizon and confidence interval: 99%?\n"
      ]
    },
    {
      "cell_type": "code",
      "metadata": {
        "id": "YO0G0ZIZ67JN",
        "colab_type": "code",
        "outputId": "f5bceca7-9f81-41b3-954d-b4ab9fb84303",
        "colab": {
          "base_uri": "https://localhost:8080/"
        }
      },
      "source": [
        "# first 5 portfolio values and value changes over time\n",
        "values_and_changes.head()"
      ],
      "execution_count": 0,
      "outputs": [
        {
          "output_type": "execute_result",
          "data": {
            "text/html": [
              "<div>\n",
              "<style scoped>\n",
              "    .dataframe tbody tr th:only-of-type {\n",
              "        vertical-align: middle;\n",
              "    }\n",
              "\n",
              "    .dataframe tbody tr th {\n",
              "        vertical-align: top;\n",
              "    }\n",
              "\n",
              "    .dataframe thead th {\n",
              "        text-align: right;\n",
              "    }\n",
              "</style>\n",
              "<table border=\"1\" class=\"dataframe\">\n",
              "  <thead>\n",
              "    <tr style=\"text-align: right;\">\n",
              "      <th></th>\n",
              "      <th>Value</th>\n",
              "      <th>Changes</th>\n",
              "    </tr>\n",
              "  </thead>\n",
              "  <tbody>\n",
              "    <tr>\n",
              "      <th>2010-06-01</th>\n",
              "      <td>231831.778759</td>\n",
              "      <td>0.000000</td>\n",
              "    </tr>\n",
              "    <tr>\n",
              "      <th>2010-06-02</th>\n",
              "      <td>231217.779373</td>\n",
              "      <td>-0.265550</td>\n",
              "    </tr>\n",
              "    <tr>\n",
              "      <th>2010-06-03</th>\n",
              "      <td>231381.783040</td>\n",
              "      <td>0.070880</td>\n",
              "    </tr>\n",
              "    <tr>\n",
              "      <th>2010-06-04</th>\n",
              "      <td>232791.778967</td>\n",
              "      <td>0.605690</td>\n",
              "    </tr>\n",
              "    <tr>\n",
              "      <th>2010-06-07</th>\n",
              "      <td>233781.778742</td>\n",
              "      <td>0.423472</td>\n",
              "    </tr>\n",
              "  </tbody>\n",
              "</table>\n",
              "</div>"
            ],
            "text/plain": [
              "                    Value   Changes\n",
              "2010-06-01  231831.778759  0.000000\n",
              "2010-06-02  231217.779373 -0.265550\n",
              "2010-06-03  231381.783040  0.070880\n",
              "2010-06-04  232791.778967  0.605690\n",
              "2010-06-07  233781.778742  0.423472"
            ]
          },
          "metadata": {
            "tags": []
          },
          "execution_count": 26
        }
      ]
    },
    {
      "cell_type": "code",
      "metadata": {
        "id": "cgKjnv6uqnM_",
        "colab_type": "code",
        "outputId": "aaa607c4-ef3f-40b8-87f1-a0fced7ae6ff",
        "colab": {
          "base_uri": "https://localhost:8080/"
        }
      },
      "source": [
        "plt.figure(figsize=(14,8))\n",
        "sns.distplot(a=portfolio_changes, kde=False, label='Actual portfolio value changes')\n",
        "plt.grid()\n",
        "plt.ylabel('Changes frequency')\n",
        "plt.xlabel('Portfolio value changes in %')\n",
        "plt.title('Portfolio changes histogram')\n",
        "plt.show()"
      ],
      "execution_count": 0,
      "outputs": [
        {
          "output_type": "display_data",
          "data": {
            "image/png": "[encoded data removed]",
            "text/plain": [
              "<Figure size 1008x576 with 1 Axes>"
            ]
          },
          "metadata": {
            "tags": []
          }
        }
      ]
    },
    {
      "cell_type": "code",
      "metadata": {
        "id": "53pw34eZ85uC",
        "colab_type": "code",
        "outputId": "2de5a614-7c22-41ce-dd17-e5e27bea5d1b",
        "colab": {
          "base_uri": "https://localhost:8080/"
        }
      },
      "source": [
        "hist_var = np.round(var_historical(confident=99, df=portfolio_over_time),3)\n",
        "print('Historical VaR for 1 day horizon and confidence interval equal to 99% is {} %'.format(hist_var))"
      ],
      "execution_count": 0,
      "outputs": [
        {
          "output_type": "stream",
          "text": [
            "Historical VaR for 1 day horizon and confidence interval equal to 99% is -2.531 %\n"
          ],
          "name": "stdout"
        }
      ]
    },
    {
      "cell_type": "markdown",
      "metadata": {
        "id": "Ke-vHsEn_mUp",
        "colab_type": "text"
      },
      "source": [
        "### Answer"
      ]
    },
    {
      "cell_type": "markdown",
      "metadata": {
        "id": "hF279uzX_nh6",
        "colab_type": "text"
      },
      "source": [
        "Historical VaR for 1 day horizon and confidence==99% is -2.531 %"
      ]
    },
    {
      "cell_type": "markdown",
      "metadata": {
        "id": "yeS27gOW_7ce",
        "colab_type": "text"
      },
      "source": [
        "# Question 5"
      ]
    },
    {
      "cell_type": "markdown",
      "metadata": {
        "id": "HJeMvtWt_9Uf",
        "colab_type": "text"
      },
      "source": [
        "## How would you test if variance-covaraince VaR is adequatelly measuring the risk? "
      ]
    },
    {
      "cell_type": "markdown",
      "metadata": {
        "id": "6SFjMMtt-xvl",
        "colab_type": "text"
      },
      "source": [
        "### Answer"
      ]
    },
    {
      "cell_type": "markdown",
      "metadata": {
        "id": "mLsMQAq2AAnp",
        "colab_type": "text"
      },
      "source": [
        "I would compare variance-covariance VaR with historical VaR."
      ]
    },
    {
      "cell_type": "markdown",
      "metadata": {
        "id": "6M3GU-0w-0yN",
        "colab_type": "text"
      },
      "source": [
        "## Is the model performance acceptable?\n"
      ]
    },
    {
      "cell_type": "markdown",
      "metadata": {
        "id": "S5g9sV3J-2CA",
        "colab_type": "text"
      },
      "source": [
        "Lets compare variance-covariance VaR with historical VaR which confident==99%."
      ]
    },
    {
      "cell_type": "code",
      "metadata": {
        "id": "2G7mHQzO_Iet",
        "colab_type": "code",
        "outputId": "06f462b0-0bca-4f6b-f3d5-3d786770d613",
        "colab": {
          "base_uri": "https://localhost:8080/",
          "height": 68
        }
      },
      "source": [
        "print('Variance-covariance VaR with confident==99% is {}%'.format(vc_var))\n",
        "print('Historical VaR with confident==99% is {}%'.format(hist_var))\n",
        "print('Difference between these two VaR values is {}%'.format(np.round(np.abs(vc_var-hist_var), 3)))"
      ],
      "execution_count": 0,
      "outputs": [
        {
          "output_type": "stream",
          "text": [
            "Variance-covariance VaR with confident==99% is -2.101%\n",
            "Historical VaR with confident==99% is -2.531%\n",
            "Difference between these two VaR values is 0.43%\n"
          ],
          "name": "stdout"
        }
      ]
    },
    {
      "cell_type": "markdown",
      "metadata": {
        "id": "ZvHYi4AR_2iD",
        "colab_type": "text"
      },
      "source": [
        "Lets compare variance-covariance VaR with historical VaR which confident==95%."
      ]
    },
    {
      "cell_type": "code",
      "metadata": {
        "id": "vSLS5sK0__-S",
        "colab_type": "code",
        "colab": {}
      },
      "source": [
        "# variance-covariance VaR with confident 95%\n",
        "vc_var_95= np.round(- 1.65*std, 3)\n",
        "\n",
        "# historical VaR with confident 95%\n",
        "hist_var_95 = np.round(var_historical(confident=95, df=portfolio_over_time),3)"
      ],
      "execution_count": 0,
      "outputs": []
    },
    {
      "cell_type": "code",
      "metadata": {
        "id": "fe63JaMZ85nD",
        "colab_type": "code",
        "outputId": "bf01ac2d-5db4-49c0-c1aa-0d2710bb9259",
        "colab": {
          "base_uri": "https://localhost:8080/",
          "height": 68
        }
      },
      "source": [
        "print('Variance-covariance VaR with confident==95% is {}%'.format(vc_var_95))\n",
        "print('Historical VaR with confident==95% is {}%'.format(hist_var_95))\n",
        "print('Difference between these two VaR values is {}%'.format(np.round(np.abs(vc_var_95-hist_var_95), 3)))"
      ],
      "execution_count": 0,
      "outputs": [
        {
          "output_type": "stream",
          "text": [
            "Variance-covariance VaR with confident==95% is -1.488%\n",
            "Historical VaR with confident==95% is -1.324%\n",
            "Difference between these two VaR values is 0.164%\n"
          ],
          "name": "stdout"
        }
      ]
    },
    {
      "cell_type": "markdown",
      "metadata": {
        "id": "8llU6eQYA9vo",
        "colab_type": "text"
      },
      "source": [
        "### Answer"
      ]
    },
    {
      "cell_type": "markdown",
      "metadata": {
        "id": "-MESDhQdA_ZS",
        "colab_type": "text"
      },
      "source": [
        "Comparing variance-covariance VaR simulation and historical VaR simulation values with confident==99% difference is 0.43% what is around 16% and 20% of both VaR values and with confident==95% difference between these two VaR simulations is even smaller  - 0.164%, what is around 11% and 12% of both VaR values. Using both VaR simulations we took actual historical data so in both ways if we assuming that value should be distributed with normal distribution both variance-covariance and historical VaRs should be similar and we got that. Does the model perform is acceptable is hard to tell, it depends on the standarts company has."
      ]
    }
  ]
}